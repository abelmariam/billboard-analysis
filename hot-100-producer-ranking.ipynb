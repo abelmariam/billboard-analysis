{
 "cells": [
  {
   "cell_type": "markdown",
   "metadata": {
    "collapsed": true
   },
   "source": [
    "# Billboard Hot 100 - Exploratory Analysis\n",
    "\n",
    "## Introduction"
   ]
  },
  {
   "cell_type": "markdown",
   "metadata": {},
   "source": [
    "Our dataset consists of the 600 songs which made it onto the [Billboard Hot 100](billboard.com/charts/hot-100) in the past 12 months. We also have relevant metadata for those songs obtainined through [Genius](https://genius.com/), a website that allows its users to provide annotations and interpretation of song lyrics.\n",
    "\n",
    "The Billboard Hot 100 is a music industry standard chart that lists the most commercially successful singles in North America. The rankings are based on a combination of record sales (both physical and digital), radio play, and online streaming. \n",
    "\n",
    "The reason I chose to gather the metadata from Genius, as opposed to other sources because:\n",
    "1. It is publically available and has a relatively simple and well documented API to work with\n",
    "2. It has standardized and comprehensive listing of the information I was most interested in - songwriter and production credits and song lyrics"
   ]
  },
  {
   "cell_type": "code",
   "execution_count": 1,
   "metadata": {
    "collapsed": true
   },
   "outputs": [],
   "source": [
    "import json\n",
    "from datetime import datetime as dt\n",
    "import reprlib"
   ]
  },
  {
   "cell_type": "code",
   "execution_count": 2,
   "metadata": {},
   "outputs": [
    {
     "data": {
      "text/plain": [
       "\"{'billboardArtist': 'Post Malone ...ing 21 Savage', 'billboardTitle': 'Rockstar', 'chartHist': [{'chartName': 'hot-100', 'datesOnChart': ['2017-11-11', '2017-11-04', '2017-10-28', '2017-10-21', '2017-10-14', '2017-10-07'], 'peakRank': 1, 'rankHist': [1, 1, 1, 2, 2, 2], ...}], 'featuredArtists': [{'genius_id': 430404, 'genius_url': 'https://geni...sts/21-savage', 'name': '21 Savage'}], ...}\""
      ]
     },
     "execution_count": 2,
     "metadata": {},
     "output_type": "execute_result"
    }
   ],
   "source": [
    "# Read in data\n",
    "filename = 'billboard-hot100.json'\n",
    "chartData = json.load(open(filename, 'r'))\n",
    "reprlib.repr(chartData[0])"
   ]
  },
  {
   "cell_type": "markdown",
   "metadata": {},
   "source": [
    "## Producer Ranking\n",
    "\n",
    "The initial inspiration behind this project was to (quantitatively) identify the most commercially successful producers and song-writers of today. In lieu of the fact having the raw sales and streaming data to work with in our dataset, our notion of commercial success will have to be defined through chart performance. One of the simplest definition of commercial success we can make is by only considering the volume of chart placements. That is, comparing the number of different songs that made it on the charts. \n",
    "\n",
    "We will define this problem more generically as such:\n",
    "\n",
    "\n",
    "$$\n",
    "\\text{producer_score}(\\text{producer}) := \\sum_{\\text{song} \\ \\in \\ \\text{producer.songs}} \\text{weight}(\\text{producer}, \\text{song}) \\cdot \\text{song_score(song)}\n",
    "$$\n",
    "\n",
    "We can think of the score of a producer as being the weighted sum of the songs scores (of songs that they contributed to). The $\\text{song_score(song)}$ is a number that summarizes a song's commerical performance and the weights $\\text{weight}(\\text{producer}, \\text{song})$ represent the relative impact/importance of a producer's contribution to a particular song. We're initially interested in defining the score to be the number of chart songs that a producer contributed to. This can be accomplished by defining:\n",
    "\n",
    "$$\\begin{align}\n",
    "\\text{song_score}(\\text{song}) & := 1 \\\\\n",
    "\\text{weight}(\\text{producer},\\text{song}) & := 1\n",
    "\\end{align}\n",
    "$$\n",
    "\n",
    "This means all songs have the same score (irrespective of their actual chart performance) and all contributors are given the same score. We're going to have to adjust this if we want the $\\text{prod_score}$ to reflect a more accurate and comprehensive sense of commercial success. "
   ]
  },
  {
   "cell_type": "code",
   "execution_count": 3,
   "metadata": {},
   "outputs": [
    {
     "name": "stdout",
     "output_type": "stream",
     "text": [
      "Top 10 Producers (Ranked by the number of Hot 100 placements in 2017)\n",
      "-------------------------------------------------------------------\n",
      "Benny Blanco \t\t 18\n",
      "Metro Boomin \t\t 16\n",
      "Frank Dukes \t\t 14\n",
      "Southside \t\t 13\n",
      "Dann Huff \t\t 13\n",
      "The Weeknd \t\t 12\n",
      "CuBeatz \t\t 11\n",
      "Max Martin \t\t 10\n",
      "Murda Beatz \t\t 10\n",
      "Doc McKinney \t\t 9\n"
     ]
    }
   ],
   "source": [
    "# Returns the top n personale (producers/writers) ranked by their score (as defined above)\n",
    "def top(n, chartData, personale,songScore):\n",
    "    staffScore = {} \n",
    "    \n",
    "    for song in chartData:\n",
    "        score = songScore(song)\n",
    "        for staff in song[personale]:\n",
    "            if staff[\"name\"] in staffScore:\n",
    "                staffScore[staff[\"name\"]] += score\n",
    "            else:\n",
    "                staffScore[staff[\"name\"]] = score\n",
    "                \n",
    "    return sorted(staffScore.items(), key=lambda x: x[1], reverse=True)[:n]\n",
    "\n",
    "top10prod = top(10, chartData, \"producers\", lambda x: 1)\n",
    "\n",
    "print(\"Top 10 Producers (Ranked by the number of Hot 100 placements in 2017)\")\n",
    "print(\"-------------------------------------------------------------------\")\n",
    "for producer, count in top10prod:\n",
    "    print(f\"{producer} \\t\\t {count}\")"
   ]
  },
  {
   "cell_type": "markdown",
   "metadata": {},
   "source": [
    "A lot of the names on the list don't come as a surprise (as they are the most sought after producers in the Hip-Hop and Pop music world). I was somewhat surprised to find that The Weeknd and CuBeatz were on this list being that:\n",
    "\n",
    "1. The Weeknd is primarily known for his work as a vocalist and performer, not as a producer. That being said, it is not uncommon for the performing artist/vocalist to get production credits for overseeing the development and musical direction of the song. For the purposes of our analysis, we want to focus more on the \"primary producers\", those most responsible for both define and execute the sonic direction of the song. Ironically, under this metric 'Doc McKinney', one of The Weeknd's longtime in-house producers, is actually ranked lower than The Weeknd.\n",
    "2. I had not heard of CuBeats prior to this but after looking at their credits through Genius, they had contributed to some of the most popular Hip-Hop songs in the past few years (mainly through their collaboration with other producers in the list, like Metro Boomin, Southside, and Murda Beatz). \n",
    "\n",
    "Both of these points address to the fact that many of the biggest Hip-Hop and Pop songs tend to have a number of different producers and song-writers that contribute to the song. We need to account for that by (ideally) weighting the song score by the relative significance of each proucer's contribution. Unfortunately, such information can't be obtained programatically through the Genius API, therefore we cannit assign weights to the producers non-uniformly. Thus, the most naieve solution to get around this is to just define the weight based on the number of contributors to the song:\n",
    "\n",
    "$$\\text{weight(producer, song)} := \\text{weight(song)} := \\frac{1}{| \\ \\text{song.producers} \\ |}$$\n",
    "\n",
    "Note that this will effectively penalize those producers that are more collaborative."
   ]
  },
  {
   "cell_type": "code",
   "execution_count": 4,
   "metadata": {},
   "outputs": [
    {
     "data": {
      "text/plain": [
       "[('Dann Huff', 9.916666666666666),\n",
       " ('Benny Blanco', 9.45),\n",
       " ('Metro Boomin', 8.116666666666665),\n",
       " ('No I.D.', 7.5),\n",
       " ('Calvin Harris', 7.0),\n",
       " ('Greg Kurstin', 6.75),\n",
       " ('Southside', 6.166666666666666),\n",
       " ('The Chainsmokers', 6.0),\n",
       " ('Busbee', 5.5),\n",
       " ('Frank Dukes', 5.333333333333334)]"
      ]
     },
     "execution_count": 4,
     "metadata": {},
     "output_type": "execute_result"
    }
   ],
   "source": [
    "def songScore(song):\n",
    "    if \"producers\" not in song or (len(song[\"producers\"]) is 0):\n",
    "        return 0\n",
    "    else:\n",
    "        return (1.0/len(song[\"producers\"]))\n",
    "        \n",
    "top(10, chartData, \"producers\", songScore)"
   ]
  },
  {
   "cell_type": "markdown",
   "metadata": {},
   "source": [
    "We find that our rankings have changed pretty drastically after this adjustment. We find that certain producers who weren't in the previous list have very high positioning with this new scoring. The two entries that standout  are:\n",
    "\n",
    "1. No I.D., a respected Hip-Hop producer and label executive, responsible for producing Jay-Z's 2017 album '4:44'\n",
    "2. Calvin Harris, a popular dance and pop music producer and DJ, who released 'Funk Wav Bounces Vol. 1' this year (a collaborative album with some of the most popular artists of today)\n",
    "\n",
    "What stands out about them is that both producers didn't collaborate with other producers in their respective projects (which didn't perform as well on the charts as some of the other lower ranked producers in the list). Their inclusion (and positioning) in the list indicate that our metric: \n",
    "\n",
    "* Excessivly penalized those producers who tend to collaborate with others (such as Frank Dukes and CuBeatz)\n",
    "* Doesn't take into account the chart performance of the respective songs\n",
    "\n",
    "The second point is highlighted in No I.D.'s inclusion into the list as none of the songs produced by him broke into the top 20 or were on the charts for more than 2 weeks. We need to change our $\\text{song_score}$ to actually take into account the chart performance. One simple way is by just summing the scaled rank across all the weeks the song was on the Billboard 100:\n",
    "\n",
    "$$\\text{score_song(song)} := \\sum_{\\text{week}} \\frac{101 - \\text{rank(song, week)}}{10}$$"
   ]
  },
  {
   "cell_type": "code",
   "execution_count": 5,
   "metadata": {},
   "outputs": [
    {
     "data": {
      "text/plain": [
       "[('Shampoo Press & Curl', 479.5),\n",
       " ('Mike WiLL Made-It', 459.7583333333334),\n",
       " ('Metro Boomin', 411.33666666666653),\n",
       " ('The Chainsmokers', 410.6000000000001),\n",
       " ('Steve Mac', 378.9666666666666),\n",
       " ('Daft Punk', 331.59999999999997),\n",
       " ('Benny Blanco', 259.0416666666666),\n",
       " ('Zach Crowell', 254.89999999999998),\n",
       " ('Ed Sheeran', 195.6333333333333),\n",
       " ('DJ Swivel', 168.59999999999997)]"
      ]
     },
     "execution_count": 5,
     "metadata": {},
     "output_type": "execute_result"
    }
   ],
   "source": [
    "def score(song):\n",
    "    if len(song.get(\"producers\", [])) is 0:\n",
    "        return 0\n",
    "    else:\n",
    "        runningScore = 0\n",
    "        for chart in song[\"chartHist\"]:\n",
    "            runningScore += ((101.0/10.0) * chart[\"weeks\"]) - sum(list(map(lambda x: x/5.0, chart[\"rankHist\"])))\n",
    "\n",
    "    return runningScore/len(song[\"producers\"])\n",
    "\n",
    "top(10, chartData, \"producers\", score)"
   ]
  },
  {
   "cell_type": "markdown",
   "metadata": {
    "collapsed": true
   },
   "source": [
    "Our ranks have changed dramatically after this adjustment. A few things from this seem to stand out:\n",
    "* Shampoo Press & Curl (Bruno Mars' in-house song-writing and production group) are number two on our list, while only having a **single** Hot 100 placement. Granted that placement was Bruno Mars' hit single 'Thats What I Like' which performed really well on the charts (its been on the charts for 43 weeks). \n",
    "* Daft Punk, the famed French production/DJ duo, contributed to two hit singles from The Weeknd ('Starboy' and 'I Feel It Coming') which peaked at number 1 and 4, respectively. \n",
    "\n",
    "Based on this alone, it seems that our metric is inflenced too much by a particular song's sustained presence on the charts and discounting the number of placements (which is more indicitive of a sort of 'commerical consistency' that we'd like our metric to capture). \n",
    "\n",
    "We'll downweight the influence on any particular song's sustained presence on the charts while still accounting for its preformance as such:\n",
    "    \n",
    "$$\\text{song_score(song)} = 1 + 0.5 \\sum_{i \\in \\{1, 10, 20, 50\\}} I(\\text{song.peakRank} \\le i)$$\n",
    "\n",
    "where the indicator function $I(\\text{song.peakRank} \\le i)$ is 1 if $\\text{song.peakRank} \\le i$ and 0 otherwise. This new metric essentially assigns each song that charts a base score of 1 and increments the score by 0.5 based on wether the song reached certain milestones such as reaching the top 50, top 20, etc. From this we could derive certain equivalences (e.g. a number one hit has the same aggregate score as that of 3 songs that make it into the top 50)."
   ]
  },
  {
   "cell_type": "code",
   "execution_count": 6,
   "metadata": {},
   "outputs": [
    {
     "data": {
      "text/plain": [
       "[('Benny Blanco', 25.5),\n",
       " ('Metro Boomin', 24.5),\n",
       " ('Frank Dukes', 18.5),\n",
       " ('Southside', 17.0),\n",
       " ('Dann Huff', 17.0),\n",
       " ('The Weeknd', 15.5),\n",
       " ('Max Martin', 15.0),\n",
       " ('CuBeatz', 15.0),\n",
       " ('Mike WiLL Made-It', 13.5),\n",
       " ('Murda Beatz', 12.5)]"
      ]
     },
     "execution_count": 6,
     "metadata": {},
     "output_type": "execute_result"
    }
   ],
   "source": [
    "# Given a value x a closed interval [low, high], this helper function returns 1 if\n",
    "# x lies in that in interval and 0 otherwise\n",
    "def indicator(x, low, high):\n",
    "    if x >= low and x <= high:\n",
    "        return 1\n",
    "    else:\n",
    "        return 0\n",
    "\n",
    "\n",
    "def score(song):\n",
    "    if len(song.get(\"producers\", [])) is 0:\n",
    "        return 0\n",
    "    else:\n",
    "        runningScore = 0\n",
    "        for chart in song[\"chartHist\"]:\n",
    "            runningScore += 1 + (0.5 * sum([indicator(chart[\"peakRank\"], 1, x) for x in [1, 10, 50]]))\n",
    "\n",
    "    return runningScore\n",
    "\n",
    "top(10, chartData, \"producers\", score)"
   ]
  },
  {
   "cell_type": "markdown",
   "metadata": {
    "collapsed": true
   },
   "source": [
    "While we can continue to tweak our metric, for our demonstrative purposes it looks good enough. Although, we still have the issue of The Weeknd and CuBeatz being placed on the chart because of our inability to appropriately weight production contributions. "
   ]
  }
 ],
 "metadata": {
  "kernelspec": {
   "display_name": "Python 3",
   "language": "python",
   "name": "python3"
  },
  "language_info": {
   "codemirror_mode": {
    "name": "ipython",
    "version": 3
   },
   "file_extension": ".py",
   "mimetype": "text/x-python",
   "name": "python",
   "nbconvert_exporter": "python",
   "pygments_lexer": "ipython3",
   "version": "3.6.1"
  }
 },
 "nbformat": 4,
 "nbformat_minor": 2
}
